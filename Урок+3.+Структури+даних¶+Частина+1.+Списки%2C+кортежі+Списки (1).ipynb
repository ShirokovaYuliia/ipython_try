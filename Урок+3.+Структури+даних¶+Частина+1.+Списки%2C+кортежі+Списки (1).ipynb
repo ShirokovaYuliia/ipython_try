{
 "cells": [
  {
   "cell_type": "markdown",
   "metadata": {},
   "source": [
    "# Урок 3. Структури даних \n",
    "## Частина 1. Списки, кортежі\n",
    "### Списки\n",
    "Список у Python – це впорядкована колекція (тобто індексована послідовність) об'єктів довільних типів.\n",
    "Елементи списку у літералах перераховуються через кому і записуються у квадратних дужках\n"
   ]
  },
  {
   "cell_type": "code",
   "execution_count": 1,
   "metadata": {},
   "outputs": [
    {
     "data": {
      "text/plain": [
       "['first', 'second', 100, 1.234]"
      ]
     },
     "execution_count": 1,
     "metadata": {},
     "output_type": "execute_result"
    }
   ],
   "source": [
    "[0, 1, 2, 3, 4, 5]\n",
    "['first', 'second', 100, 1.234]"
   ]
  },
  {
   "cell_type": "markdown",
   "metadata": {},
   "source": [
    "Списки у Python належать до змінюваних (mutable) типів.\n",
    "\n",
    "#### Створення списків\n",
    "Існує кілька способів створення списків. Розглянемо їх\n",
    "1. Створення списку за допомогою літерала. Власне потрібно просто перерахувати елементи списку у квадратних дужках через кому"
   ]
  },
  {
   "cell_type": "code",
   "execution_count": 2,
   "metadata": {
    "collapsed": true
   },
   "outputs": [],
   "source": [
    "empty_list = [] # Порожній список\n",
    "l = ['1', '2', 3.0, 4] # Список з 4-х\n",
    " # різнотипових елементів\n",
    "M = [[1, 2, 3], [4, 5, 6]] # Список, що складається\n",
    " # з двох списків\n"
   ]
  },
  {
   "cell_type": "markdown",
   "metadata": {},
   "source": [
    "2. За допомогою перетворення у список іншої колекції використовуючи ключове слово list.\n"
   ]
  },
  {
   "cell_type": "code",
   "execution_count": null,
   "metadata": {
    "collapsed": true
   },
   "outputs": [],
   "source": [
    "lst = list(collection)"
   ]
  },
  {
   "cell_type": "markdown",
   "metadata": {},
   "source": [
    "тут lst – новий список, що будується на базі колекції collection"
   ]
  },
  {
   "cell_type": "code",
   "execution_count": null,
   "metadata": {
    "collapsed": true
   },
   "outputs": [],
   "source": [
    "l = list(range(5)) # Cписок [0, 1, 2, 3, 4]\n",
    "s = list('list') # Cписок ['l', 'i', 's', 't']"
   ]
  },
  {
   "cell_type": "markdown",
   "metadata": {},
   "source": [
    "За допомогою оператора створення списку (також будемо\n",
    "використовувати термін спискоутворення). Оператор створення списку – це\n",
    "спосіб побудови нового списку на базі іншої колекції, до всіх елементів якої\n",
    "застосовується деякий вираз. Його синтаксис такий\n"
   ]
  },
  {
   "cell_type": "code",
   "execution_count": null,
   "metadata": {
    "collapsed": true
   },
   "outputs": [],
   "source": [
    "new_lst = [expr(i) for i in collection if condition]"
   ]
  },
  {
   "cell_type": "markdown",
   "metadata": {},
   "source": [
    "тут new_lst – новий список, що створюється, collection – деяка колекція.\n",
    "Оператор створення списку працює таким чином:\n",
    "змінна i послідовно пробігає всі елементи колекції collection. Якщо для\n",
    "поточного значення i виконується умова condition, то в список додається\n",
    "елемент expr(i), що залежить від поточного значення ітератора.\n",
    "Наприклад, для того, щоб створити список, що складається з квадратів\n",
    "натуральних чисел, що не перевищують 30 і є кратними 5: [25, 100, ...] потрібно\n",
    "виконати таку інструкцію"
   ]
  },
  {
   "cell_type": "code",
   "execution_count": 7,
   "metadata": {},
   "outputs": [
    {
     "name": "stdout",
     "output_type": "stream",
     "text": [
      "[25, 100, 225, 400, 625, 900]\n"
     ]
    }
   ],
   "source": [
    "l = [i ** 2 for i in range(5, 31) if i % 5 == 0]\n",
    "print(l)\n"
   ]
  },
  {
   "cell_type": "markdown",
   "metadata": {},
   "source": [
    "Якщо в операторі створення списку умова відсутня, то блок if опускають\n",
    "Для прикладу створимо список, що складається з квадратів натуральних\n",
    "чисел, що не перевищують 4\n"
   ]
  },
  {
   "cell_type": "code",
   "execution_count": 8,
   "metadata": {},
   "outputs": [
    {
     "name": "stdout",
     "output_type": "stream",
     "text": [
      "[0, 1, 4, 9, 16]\n"
     ]
    }
   ],
   "source": [
    "l = [i ** 2 for i in range(5)]\n",
    "print(l)"
   ]
  },
  {
   "cell_type": "markdown",
   "metadata": {},
   "source": [
    "#### Індексація\n",
    "Список, це послідовність, у якій всі елементи занумеровані, починаючи з 0. Номер елементу списку називається індексом. Наприклад, у такому списку\n",
    "\n",
    "|l = [1, 2, 3, 4]     | \n",
    "| --------------- |:-----------:|\n",
    "\n",
    "1 має індекс 0, 2 – індекс 1, 3 – індекс 2, 4 – індекс 3. Звернемо увагу на те, щоостанній елемент має номер на одиницю менший ніж кількість елементів у списkу. У Python існує механізм по-елементної роботи зі списком. Для того, щоб звернутися до відповідного елемента списку, необхідно вказати номер цього елементу у квадратних дужках.\n",
    "\n"
   ]
  },
  {
   "cell_type": "code",
   "execution_count": 10,
   "metadata": {},
   "outputs": [
    {
     "name": "stdout",
     "output_type": "stream",
     "text": [
      "0\n",
      "9\n",
      "16\n"
     ]
    }
   ],
   "source": [
    "print(l[0])\n",
    "print(l[3])\n",
    "print(l[4])"
   ]
  },
  {
   "cell_type": "markdown",
   "metadata": {},
   "source": [
    "Звернення до елементу списку за індексом надає прямий доступ до цього елементу у пам’яті. Таким чином, цей елемент можна замінити на інший елемент. При цьому список зміниться, оскільки списки належать до змінюваних типів даних\n"
   ]
  },
  {
   "cell_type": "code",
   "execution_count": 12,
   "metadata": {},
   "outputs": [
    {
     "name": "stdout",
     "output_type": "stream",
     "text": [
      "[111, 2, 3, 4]\n"
     ]
    }
   ],
   "source": [
    "l = [1, 2, 3, 4]\n",
    "l[0] = 111\n",
    "print(l)"
   ]
  },
  {
   "cell_type": "markdown",
   "metadata": {},
   "source": [
    "Елемент списку може брати участь у різних операціях згідно з тими\n",
    "правилами які дозволені для об’єктів його типу"
   ]
  },
  {
   "cell_type": "code",
   "execution_count": 13,
   "metadata": {},
   "outputs": [
    {
     "name": "stdout",
     "output_type": "stream",
     "text": [
      "10\n"
     ]
    }
   ],
   "source": [
    " l = [1, 2, 3, 4]\n",
    "suma = l[0] + l[1] + l[2] + l[3]\n",
    "print(suma)"
   ]
  },
  {
   "cell_type": "markdown",
   "metadata": {},
   "source": [
    "Звернення до елементу списку може відбуватися з використанням від'ємних індексів. При цьому нумерація рахується з кінця списку з урахування, що –1-й елемент це останній елемент списку, –2-й – передостанній і т.д."
   ]
  },
  {
   "cell_type": "code",
   "execution_count": 14,
   "metadata": {},
   "outputs": [
    {
     "name": "stdout",
     "output_type": "stream",
     "text": [
      "2\n",
      "[1, 2, 3, 555]\n"
     ]
    }
   ],
   "source": [
    "l = [1, 2, 3, 4]\n",
    "print(l[-3])\n",
    "l[-1] = 555\n",
    "print(l)"
   ]
  },
  {
   "cell_type": "markdown",
   "metadata": {},
   "source": [
    "#### Зрізи\n",
    "Крім індексів, для прямого доступу до елементів списків у Python існують зрізи. Фактично зріз списку – це фрагмент вихідного списку. Нехай lst деякий список. Тоді зріз\n",
    "\n",
    "|lst[start : end : step]   | \n",
    "| --------------- |:-----------:|\n",
    "\n",
    "це підпослідовність елементів списку lst, що починається з елементу з\n",
    "індексом start, закінчується елементом з індексом end-1 та будується з\n",
    "кроком step.\n"
   ]
  },
  {
   "cell_type": "code",
   "execution_count": 18,
   "metadata": {},
   "outputs": [
    {
     "name": "stdout",
     "output_type": "stream",
     "text": [
      "[3, 5, 7]\n"
     ]
    }
   ],
   "source": [
    "l = [1, 2, 3, 4, 5, 6, 7, 8, 9, 10, 11, 12, 13]\n",
    "print(l[2:7:2])"
   ]
  },
  {
   "cell_type": "markdown",
   "metadata": {},
   "source": [
    "Для аргументів зрізу можуть використовуватися типові значення (eng. by\n",
    "default). Так для параметра start типовим значенням є 0, для end – кількість\n",
    "елементів у списку, для step – значення 1. Отже, якщо необхідно побудувати\n",
    "зріз, що має для одного (або кількох) з аргументів типове значення, його\n",
    "можна опускати в коді. При чому параметр step можна опускати разом з\n",
    "другою двокрапкою. Наприклад\n"
   ]
  },
  {
   "cell_type": "code",
   "execution_count": 19,
   "metadata": {},
   "outputs": [
    {
     "name": "stdout",
     "output_type": "stream",
     "text": [
      "[1, 2, 3, 4, 5, 6, 7, 8, 9, 10, 11, 12, 13]\n",
      "[2, 3, 4, 5, 6, 7, 8, 9, 10, 11, 12, 13]\n",
      "[1, 2, 3]\n",
      "[1, 3, 5, 7, 9, 11, 13]\n"
     ]
    }
   ],
   "source": [
    "l = [1, 2, 3, 4, 5, 6, 7, 8, 9, 10, 11, 12, 13]\n",
    "print(l[:])\n",
    "\n",
    "print(l[1:])\n",
    "\n",
    "print(l[:3])\n",
    "\n",
    "print(l[::2])"
   ]
  },
  {
   "cell_type": "markdown",
   "metadata": {},
   "source": [
    "Якщо при побудові зрізу, значення start >= end або діапазон значень індексів виявиться за межами списку, то зріз буде порожнім"
   ]
  },
  {
   "cell_type": "code",
   "execution_count": 20,
   "metadata": {},
   "outputs": [
    {
     "name": "stdout",
     "output_type": "stream",
     "text": [
      "[]\n",
      "[]\n",
      "[]\n"
     ]
    }
   ],
   "source": [
    "l = [1, 2, 3, 4, 5, 6]\n",
    "print(l[5:3])\n",
    "print(l[10:20])\n",
    "print(l[1:1])"
   ]
  },
  {
   "cell_type": "markdown",
   "metadata": {},
   "source": [
    "##### Параметри зрізу також можуть бути від'ємними.\n",
    "У цьому випадку нумерація для start та end рахується з кінця починаючи від -1. Якщо ж step є від'ємним, то значення start та end фактично міняються місцями"
   ]
  },
  {
   "cell_type": "code",
   "execution_count": 21,
   "metadata": {},
   "outputs": [
    {
     "name": "stdout",
     "output_type": "stream",
     "text": [
      "[6, 5, 4, 3, 2, 1]\n",
      "[6, 5, 4, 3]\n"
     ]
    }
   ],
   "source": [
    "l = [1, 2, 3, 4, 5, 6]\n",
    "print(l[::-1])\n",
    "print(l[-1:1:-1])\n"
   ]
  },
  {
   "cell_type": "markdown",
   "metadata": {},
   "source": [
    "Використовуючи зрізи можна не лише видобувати підсписок, але і\n",
    "модифікувати список, додаючи або видаляючи елементи"
   ]
  },
  {
   "cell_type": "code",
   "execution_count": 23,
   "metadata": {},
   "outputs": [
    {
     "name": "stdout",
     "output_type": "stream",
     "text": [
      "[0, 1, 2, 3, 4, 5, 6]\n",
      "[0, 1, 2]\n",
      "[0, 1, 2, 88, 99]\n"
     ]
    }
   ],
   "source": [
    "l = [1, 2, 3, 4, 5, 6]\n",
    "l[0:0] = [0]# вставляється список [0]\n",
    "                   # перед нульовою позицією\n",
    "print(l)\n",
    "l[3:] = [] # видаляються всі елементи починаючи з 3-го\n",
    "print(l)\n",
    "l[3:] = [88, 99] # додаються в кінець список два елементи\n",
    "print(l)\n",
    "\n"
   ]
  },
  {
   "cell_type": "markdown",
   "metadata": {},
   "source": [
    "#### Операції над списками"
   ]
  },
  {
   "cell_type": "code",
   "execution_count": 24,
   "metadata": {},
   "outputs": [
    {
     "data": {
      "image/png": "[encoded data removed]",
      "text/plain": [
       "<IPython.core.display.Image object>"
      ]
     },
     "execution_count": 24,
     "metadata": {},
     "output_type": "execute_result"
    }
   ],
   "source": [
    "from IPython.display import Image\n",
    "Image(\"C:/Users/XTreme.ws/Desktop/Python/test16.png\")"
   ]
  },
  {
   "cell_type": "code",
   "execution_count": 26,
   "metadata": {},
   "outputs": [
    {
     "name": "stdout",
     "output_type": "stream",
     "text": [
      "[1, 2, 3, 4, 5, 6, 10, 20, 30, 40, 50, 60]\n",
      "[1, 2, 3, 4, 5, 6, 1, 2, 3, 4, 5, 6]\n"
     ]
    }
   ],
   "source": [
    "l = [1, 2, 3, 4, 5, 6]\n",
    "s = [10, 20, 30, 40, 50, 60]\n",
    "print(l + s)\n",
    "print(l * 2)\n"
   ]
  },
  {
   "cell_type": "code",
   "execution_count": 27,
   "metadata": {},
   "outputs": [
    {
     "data": {
      "image/png": "[encoded data removed]",
      "text/plain": [
       "<IPython.core.display.Image object>"
      ]
     },
     "execution_count": 27,
     "metadata": {},
     "output_type": "execute_result"
    }
   ],
   "source": [
    "from IPython.display import Image\n",
    "Image(\"C:/Users/XTreme.ws/Desktop/Python/test17.png\")"
   ]
  },
  {
   "cell_type": "code",
   "execution_count": 28,
   "metadata": {},
   "outputs": [
    {
     "name": "stdout",
     "output_type": "stream",
     "text": [
      "True\n",
      "False\n",
      "True\n"
     ]
    }
   ],
   "source": [
    "l = [1, 2, 3, 4, 5, 6]\n",
    "print(2 in l)\n",
    "\n",
    "print(222 in l)\n",
    "print(222 not in l)"
   ]
  },
  {
   "cell_type": "code",
   "execution_count": 30,
   "metadata": {},
   "outputs": [
    {
     "data": {
      "image/png": "[encoded data removed]",
      "text/plain": [
       "<IPython.core.display.Image object>"
      ]
     },
     "execution_count": 30,
     "metadata": {},
     "output_type": "execute_result"
    }
   ],
   "source": [
    "from IPython.display import Image\n",
    "Image(\"C:/Users/XTreme.ws/Desktop/Python/test18.png\")"
   ]
  },
  {
   "cell_type": "code",
   "execution_count": 31,
   "metadata": {},
   "outputs": [
    {
     "name": "stdout",
     "output_type": "stream",
     "text": [
      "6\n",
      "1\n",
      "2\n",
      "4\n"
     ]
    }
   ],
   "source": [
    "l = [1, 2, 3, 4, 5, 6]\n",
    "print(len(l))\n",
    "print(min(l))\n",
    "print(l.index(3))\n",
    "l = [1, 2, 2, 2, 2, 3]\n",
    "print(l.count(2))\n"
   ]
  },
  {
   "cell_type": "code",
   "execution_count": 32,
   "metadata": {},
   "outputs": [
    {
     "data": {
      "image/png": "[encoded data removed]",
      "text/plain": [
       "<IPython.core.display.Image object>"
      ]
     },
     "execution_count": 32,
     "metadata": {},
     "output_type": "execute_result"
    }
   ],
   "source": [
    "from IPython.display import Image\n",
    "Image(\"C:/Users/XTreme.ws/Desktop/Python/test19.png\")"
   ]
  },
  {
   "cell_type": "code",
   "execution_count": 33,
   "metadata": {},
   "outputs": [
    {
     "name": "stdout",
     "output_type": "stream",
     "text": [
      "[1, 2, 3, 4, 5, 6, 20, 29]\n",
      "29\n",
      "[1, 2, 3, 4, 5, 6, 20]\n",
      "[]\n"
     ]
    }
   ],
   "source": [
    "l = [1, 2, 3, 4, 5, 6]\n",
    "l.extend([20, 29])\n",
    "print(l)\n",
    "\n",
    "print(l.pop())\n",
    "print(l)\n",
    "l.clear()\n",
    "print(l)\n"
   ]
  },
  {
   "cell_type": "markdown",
   "metadata": {},
   "source": [
    "Наведені у таблиці  операції для списків можна реалізувати\n",
    "використовуючи зрізи та/або інші операції. Наприклад, інструкцію додавання\n",
    "елементу до списку"
   ]
  },
  {
   "cell_type": "code",
   "execution_count": 34,
   "metadata": {},
   "outputs": [
    {
     "data": {
      "image/png": "[encoded data removed]",
      "text/plain": [
       "<IPython.core.display.Image object>"
      ]
     },
     "execution_count": 34,
     "metadata": {},
     "output_type": "execute_result"
    }
   ],
   "source": [
    "from IPython.display import Image\n",
    "Image(\"C:/Users/XTreme.ws/Desktop/Python/test20.png\")"
   ]
  },
  {
   "cell_type": "markdown",
   "metadata": {},
   "source": [
    "Аналогічно можна записати й інші інструкції, що рекомендується виконати читачу самостійно.\n",
    "\n",
    "\n",
    "#### Особливості роботи зі списками\n",
    "Як було сказано раніше, списки відносяться до змінюваних (mutable) типів\n",
    "даних. Отже, через змінну, що є ім'ям списку надається безпосередній доступ,\n",
    "до пам'яті де список зберігає свої дані.\n",
    "Інколи, особливо у новачків, не розуміння цього призводить до\n",
    "неочікуваних наслідків.\n",
    "Розглянемо для прикладу такий код"
   ]
  },
  {
   "cell_type": "code",
   "execution_count": 36,
   "metadata": {},
   "outputs": [
    {
     "name": "stdout",
     "output_type": "stream",
     "text": [
      "6\n",
      "[1, 2, 3, 4, 5]\n"
     ]
    }
   ],
   "source": [
    "l = [1, 2, 3, 4, 5, 6]\n",
    "s = l\n",
    "print(s.pop())\n",
    "print(l)"
   ]
  },
  {
   "cell_type": "markdown",
   "metadata": {},
   "source": [
    "Як бачимо список l змінився – зник елемент 6. Виникає цілком логічне\n",
    "запитання – Чому? Адже ми нічого не робили зі списком l.\n",
    "Пояснення цього «феномену» полягає розумінні того як влаштовані змінні у\n",
    "Python. А саме: як було зазначено у першому параграфі – змінні це адреси\n",
    "пам'яті (посилання). Інструкція s = l провела копіювання адрес, а не списків і\n",
    "тому фактично s і l це два різних імені одного списку. Змінивши список s ми\n",
    "змінили і список l.\n",
    "Якщо наведена вище поведінка не є бажаною, то список треба копіювати\n",
    "або інструкцією copy або з допомогою зрізів"
   ]
  },
  {
   "cell_type": "code",
   "execution_count": 38,
   "metadata": {},
   "outputs": [
    {
     "name": "stdout",
     "output_type": "stream",
     "text": [
      "6\n",
      "[1, 2, 3, 4, 5, 6]\n",
      "[1, 2, 3, 4, 5]\n"
     ]
    }
   ],
   "source": [
    "l = [1, 2, 3, 4, 5, 6]\n",
    "s = l.copy() # s = l[:]\n",
    "print(s.pop())\n",
    "print(l)\n",
    "print(s)"
   ]
  },
  {
   "cell_type": "markdown",
   "metadata": {},
   "source": [
    "Як бачимо у цьому випадку список лишився незмінним.\n"
   ]
  },
  {
   "cell_type": "markdown",
   "metadata": {},
   "source": [
    "### Введення списків з клавіатури\n",
    "Список можна виводити на екран за допомогою інструкції print. Проте в\n",
    "Python не передбачено готової інструкції для введення списків з клавіатури. Для цього використовується по-елементне введення, наприклад\n",
    "використовуючи цикл по проміжку значень."
   ]
  },
  {
   "cell_type": "code",
   "execution_count": 39,
   "metadata": {},
   "outputs": [
    {
     "name": "stdout",
     "output_type": "stream",
     "text": [
      "Кількість елементів списку 4\n",
      "Задайте 0-й елемент списку 6\n",
      "Задайте 1-й елемент списку 5\n",
      "Задайте 2-й елемент списку 7\n",
      "Задайте 3-й елемент списку 8\n",
      "[6.0, 5.0, 7.0, 8.0]\n"
     ]
    }
   ],
   "source": [
    "# Блок введення списку з клавіатури\n",
    "N = int(input(\"Кількість елементів списку \"))\n",
    "l = [] # Створюємо порожній список\n",
    "for i in range(N):\n",
    "    x = float(input(\"Задайте %d-й елемент списку \" % (i)))\n",
    "    l.append(x) # Додаємо елемент х у список\n",
    "# ==================================\n",
    "# Виведення списку на екран\n",
    "print(l) "
   ]
  },
  {
   "cell_type": "markdown",
   "metadata": {},
   "source": [
    "#### Обхід списків\n",
    "1. Ітерування списку\n",
    "Оскільки список є колекцією, то всі його елементи можна послідовно перебрати використовуючи цикл for. Нехай маємо список lst. Тоді цикл\n",
    "\n",
    "for elem in lst:\n",
    "\n",
    "    process_iteration \n",
    "    \n",
    "    послідовно виконує process_iteration для всіх елементів elem списку. Наприклад, знайдемо суму елементів списку, що     містить натуральні числа від 1 до 5."
   ]
  },
  {
   "cell_type": "code",
   "execution_count": 40,
   "metadata": {},
   "outputs": [
    {
     "name": "stdout",
     "output_type": "stream",
     "text": [
      "15\n"
     ]
    }
   ],
   "source": [
    "l = [1, 2, 3, 4, 5]\n",
    "suma = 0 # Змінна у якій підраховується сума\n",
    "for elem in l:\n",
    " suma += elem # Додаємо кожний елемент списку\n",
    "print(suma)"
   ]
  },
  {
   "cell_type": "markdown",
   "metadata": {},
   "source": [
    "##### Приклад\n",
    "Знайти найбільший елемент списку.\n",
    "##### Розв’язок. \n",
    "Хоча для розв’язання цієї задачі у Python є вбудована функція\n",
    "max, розв’яжемо цю задачу без її використання, для того, щоб краще зрозуміти\n",
    "принципи роботи зі списками. Схожу задачу, проте без використання списків\n",
    "ми вже раніше розв’язували, тому наведемо програму без додаткових\n",
    "пояснень самого алгоритму"
   ]
  },
  {
   "cell_type": "code",
   "execution_count": 43,
   "metadata": {},
   "outputs": [
    {
     "name": "stdout",
     "output_type": "stream",
     "text": [
      "Кількість елементів списку 2\n",
      "Задайте 0-й елемент списку 1\n",
      "Задайте 1-й елемент списку 2\n",
      "Найбільних елемент списку -  2.0\n"
     ]
    }
   ],
   "source": [
    "# Блок введення списку з клавіатури\n",
    "N = int(input(\"Кількість елементів списку \"))\n",
    "l = [] # Створюємо порожній список\n",
    "for i in range(N):\n",
    "    x = float(input(\"Задайте %d-й елемент списку \" % (i)))\n",
    "    l.append(x) # Додаємо елемент х у список\n",
    "# ==================================\n",
    "# Знаходження максимального елементу\n",
    "max = l[0] # 0-й елемент списку покладемо найбільшим\n",
    "for i in range(1, len(l)): # Проходимо всі елементи списку\n",
    "    if max < l[i]: # Якщо поточний максимум\n",
    " # менший за поточний елемент\n",
    "        max = l[i] # змінюємо поточний максимум\n",
    "print(\"Найбільних елемент списку - \", max)"
   ]
  },
  {
   "cell_type": "markdown",
   "metadata": {},
   "source": [
    "###### 2. Обхід списку за індексами\n",
    "Крім по-елементного проходу списку, елементи списку можна перебрати за\n",
    "їхніми індексами. Нехай lst деякий список. Тоді цикл\n",
    "\n",
    "for i in range(len(lst)):\n",
    "\n",
    "    process_iteration # Тут використовують lst[i] \n",
    "    \n",
    "    послідовно виконує process_iteration для всіх елементів списку,\n",
    "звертання до яких потрібно за їхніми індексами, тобто lst[i].\n",
    "\n",
    "##### Приклад \n",
    "Знайти індекс найбільшого елементу списку.\n",
    "###### Розв’язок. \n",
    "Оскільки алгоритм введення списку з клавіатури дослівно\n",
    "повторює такий з попередньої задачі, то просто зазначимо його схематично –\n",
    "при необхідності замість крапок потрібно вставити фрагмент коду з\n",
    "попереднього прикладу. У циклі будемо проходити всі елементи по індексах.\n",
    "Будемо запам’ятовувати не лише найбільший поточний елемент, але і його\n",
    "індекс"
   ]
  },
  {
   "cell_type": "code",
   "execution_count": null,
   "metadata": {
    "collapsed": true
   },
   "outputs": [],
   "source": [
    "# Блок введення списку з клавіатури\n",
    "\n",
    "# Знаходження максимального елементу разом з його індексом\n",
    "max_elem = l[0] # 0-й елемент списку покладемо найбільшим\n",
    "max_index = 0 # Індекс найбільшого елементу списку\n",
    "for i in range(1, len(l)): # Проходимо всі елементи списку\n",
    "    if max_elem < l[i]: # Якщо поточний максимум\n",
    " # менший за поточний елемент\n",
    "       max_elem = l[i] # змінюємо поточний максимум\n",
    "       max_index = i # змінюємо індекс максимального ел-ту\n",
    "print(\"Найбільних елемент %d має індекс %d\" % (max_elem, max_index))"
   ]
  },
  {
   "cell_type": "markdown",
   "metadata": {},
   "source": [
    "###### 3. Обхід списку за допомогою функції enumerate.\n",
    "Функція enumerate, дозволяє пробігати циклом for список як колекцію і\n",
    "при цьому надає доступ до індексів елементів списку\n",
    "\n",
    "for i, elem in enumerate(lst):\n",
    "\n",
    "     process_iteration # Тут використовують i та elem\n",
    "     \n",
    "     Тут i – індекс елементу списку, elem – поточний елемент колекції.\n",
    "Отже, цикл пошуку найбільшого елемента у попередньому прикладі\n",
    "можемо переписати таким чином"
   ]
  },
  {
   "cell_type": "code",
   "execution_count": null,
   "metadata": {
    "collapsed": true
   },
   "outputs": [],
   "source": [
    "for i, elem in enumerate(l):\n",
    "    if max_elem < elem:\n",
    "        max_elem = elem\n",
    "        max_index = i"
   ]
  },
  {
   "cell_type": "markdown",
   "metadata": {},
   "source": [
    "#### Приклад\n",
    "Знайти суму елементів дійсного вектора.\n",
    "#### Розв’язок.\n",
    "Як відомо вектор – це впорядкований набір дійсних чисел. Отже\n",
    "цю задачу зручно розв’язати, використовуючи список. Як і у попередньому\n",
    "прикладі, розіб’ємо задачу на два кроки – введення вектора з клавіатури і\n",
    "визначення суми елементів заданого вектора. Аналогічно попередньому\n",
    "прикладу код введення списку з клавіатури зазначимо схематично. Суму\n",
    "елементів вектора знайдемо пробігаючи його елементи циклом по колекції.\n",
    "Таким чином, програма буде мати вигляд"
   ]
  },
  {
   "cell_type": "code",
   "execution_count": 49,
   "metadata": {},
   "outputs": [
    {
     "name": "stdout",
     "output_type": "stream",
     "text": [
      "Сума елементів вектора = 3.0\n"
     ]
    }
   ],
   "source": [
    "# Блок введення списку з клавіатури\n",
    "\n",
    "# Обчислення суми елементів заданого вектора\n",
    "suma = 0 # змінна у якій підраховується сума\n",
    "for elem in l: # пробігаємо список по-елементно\n",
    " suma += elem # додаємо до суми значення компоненти\n",
    "print(\"Сума елементів вектора =\", suma)"
   ]
  },
  {
   "cell_type": "code",
   "execution_count": null,
   "metadata": {
    "collapsed": true
   },
   "outputs": [],
   "source": [
    "from IPython.display import Image\n",
    "Image(\"C:/Users/XTreme.ws/Desktop/Python/test21.png\")"
   ]
  },
  {
   "cell_type": "markdown",
   "metadata": {
    "collapsed": true
   },
   "source": [
    "можна зобразити списком з двох елементів, кожен з яких містить відповідний\n",
    "рядок матриці M = [ [1, 2, 3], [4, 5, 6] ]\n",
    "\n",
    "Таке зображення списків наближає роботу з ними до роботи зі звичайними\n",
    "матрицями. Фактично єдиною відмінністю буде те, що в математиці, як\n",
    "правило номери рядків і стовпчиків починаються з одиниці, а елементи списків\n",
    "нумеруються з нуля. Отже, для того, щоб отримати елемент матриці\n",
    "розташований на перетині 𝑖-го рядка і 𝑗-го стовпчика необхідно брати\n",
    "відповідні елементи списків з номерами рядка і стовпчика 𝑖 − 1 і 𝑗 − 1\n",
    "відповідно.\n",
    "\n",
    "\n",
    "Наприклад, якщо для вищенаведеної матриці треба взяти елемент, що\n",
    "знаходиться у другому рядку і першому стовпчику (що має значення 4)\n",
    "необхідно взяти елемент M[1][0]."
   ]
  },
  {
   "cell_type": "code",
   "execution_count": null,
   "metadata": {
    "collapsed": true
   },
   "outputs": [],
   "source": [
    "M = [ [1, 2, 3], [4, 5, 6] ]\n",
    "print(M[1][0])"
   ]
  },
  {
   "cell_type": "markdown",
   "metadata": {},
   "source": [
    "Зображення матриць як списків, що містять вкладені списки підказує\n",
    "алгоритм обробки матриць, а саме за допомогою вкладених циклів по колекції.\n",
    "При цьому, ітератор зовнішнього циклу біжить \"по рядках матриці\", а ітератор\n",
    "внутрішнього циклу – по елементах відповідного рядка:"
   ]
  },
  {
   "cell_type": "code",
   "execution_count": null,
   "metadata": {
    "collapsed": true
   },
   "outputs": [],
   "source": [
    "for row in M: # row біжить по рядках матриці M\n",
    " for elem in row: # elem пробігає елементи рядка row\n",
    " # тут можна проводити операції з\n",
    " # поточним елементом матриці M\n"
   ]
  },
  {
   "cell_type": "markdown",
   "metadata": {
    "collapsed": true
   },
   "source": [
    "Тут деяка M задана матриця.\n",
    "Аналогічно, потрібно використовувати вкладені цикли для зчитування\n",
    "матриць з клавіатури"
   ]
  },
  {
   "cell_type": "code",
   "execution_count": null,
   "metadata": {
    "collapsed": true
   },
   "outputs": [],
   "source": [
    "# Введення матриці з клавіатури\n",
    "N = int(input(\"Кількість рядків матриці \"))\n",
    "L = int(input(\"Кількість стовпчиків матриці \"))\n",
    "M = [] # Створюємо порожню матрицю\n",
    "for i in range(N):\n",
    "    row = [] # Створюємо порожній список - рядок матриці\n",
    " # Заповнюємо рядок матриці з клавіатури\n",
    " for j in range(L):\n",
    "    elem = float(input(\"M[%d][%d] = \" % (i, j)))\n",
    "    row.append(elem)\n",
    "     M.append(row) # Додаємо заповнений рядок до матриці"
   ]
  },
  {
   "cell_type": "markdown",
   "metadata": {},
   "source": [
    "Оскільки вводити дані у матрицю за допомогою вищенаведеного коду\n",
    "потрібно по-елементно, то таке введення матриці не зручне з точки зору\n",
    "практичного використання. Користувачу зручніше вводити зразу весь рядок\n",
    "матриці. Наведемо без пояснень (оскільки це виходить за межі розглянутих\n",
    "тем) код, який дозволяє вводити матрицю по рядках, розділяючи елементи\n",
    "рядка, символом (або кількома символами) пропуску\n"
   ]
  },
  {
   "cell_type": "code",
   "execution_count": null,
   "metadata": {
    "collapsed": true
   },
   "outputs": [],
   "source": [
    "# Блок введення списку з клавіатури\n",
    "N = int(input(\"Кількість рядків матриці \"))\n",
    "M = [] # Створюємо порожню матрицю\n",
    "for i in range(N):\n",
    " # Вводимо рядок матриці row з клавіатури\n",
    " row = map(float, input(\"%d: \" % i).split())\n",
    " M.append(row) # Додаємо рядок до матриці\n",
    "print(M)"
   ]
  },
  {
   "cell_type": "markdown",
   "metadata": {},
   "source": [
    "Наведено приклад виведення матриці по рядках"
   ]
  },
  {
   "cell_type": "code",
   "execution_count": null,
   "metadata": {
    "collapsed": true
   },
   "outputs": [],
   "source": [
    "for row in M:\n",
    " for elem in row:\n",
    " print(elem, end=\" \")\n",
    " print()\n"
   ]
  },
  {
   "cell_type": "markdown",
   "metadata": {},
   "source": [
    "Результатом виконання цього коду для заданої вище матриці M буде\n",
    "\n",
    "#### 1 2 3\n",
    "#### 4 5 6\n",
    "\n",
    "#### Приклад. \n",
    "Визначити найменший з елементів квадратної дійсної матриці\n",
    "порядку N.\n",
    "Python у прикладах і задачах\n",
    "#### Розв’язок. \n",
    "Розіб’ємо задачу на дві частини. Перша – введення матриці з\n",
    "клавіатури. Друга – це пошук мінімуму у матриці. Алгоритм введення матриці з\n",
    "клавіатури розглянутий вище. Тому у програмі введення матриці позначимо\n",
    "схематично.\n",
    "Для знаходження найменшого елементу матриці будемо пробігати всі\n",
    "елементи матриці за допомогою двох вкладених циклів, як показано вище.\n",
    "Використаємо додаткову змінну min, яка буде містити поточний мінімум серед\n",
    "елементів, які вже було розглянуто."
   ]
  },
  {
   "cell_type": "code",
   "execution_count": null,
   "metadata": {
    "collapsed": true
   },
   "outputs": [],
   "source": [
    "# Введення матриці M з клавіатури\n",
    "……………………………………………………………………………………………………\n",
    "# Пошук найменшого\n",
    "min = M[0][0]\n",
    "for row in M:\n",
    " for elem in row:\n",
    " if elem <= min:\n",
    " min = elem\n",
    "print(min)"
   ]
  },
  {
   "cell_type": "markdown",
   "metadata": {},
   "source": [
    "#### Приклад\n",
    "Перевірити чи є задана матриця симетричною.\n",
    "#### Розв’язок.\n",
    "Умова симетричності квадратної матриці має вигляд: 𝑎𝑖𝑗 = 𝑎𝑗𝑖\n",
    "для всіх 𝑖, 𝑗. Тому задачу можна розглядати як задачу пошуку таких 𝑖,𝑗, що\n",
    "𝑎𝑖𝑗 ≠ 𝑎𝑗𝑖. Якщо таких індексів немає, то матриця симетрична. У програмі\n",
    "використаємо змінну res, яка буде містити True, якщо не існує таких 𝑖,𝑗, що\n",
    "𝑎𝑖𝑗 ≠ 𝑎𝑗𝑖 і False, якщо такі 𝑖,𝑗 буде знайдено."
   ]
  },
  {
   "cell_type": "code",
   "execution_count": null,
   "metadata": {
    "collapsed": true
   },
   "outputs": [],
   "source": [
    "# Введення матриці M з клавіатури\n",
    "……………………………………………………………………………………………………\n",
    "# Визначення чи є матриця симетрична\n",
    "n = len(M)\n",
    "res = True\n",
    "for i in range(n):\n",
    " for j in range(n):\n",
    " if M[i][j] != M[j][i]:\n",
    " res = False\n",
    "print(res)"
   ]
  },
  {
   "cell_type": "markdown",
   "metadata": {},
   "source": [
    "### Кортежі\n",
    "Кортеж у Python – це впорядкована незмінювана (immutable) колекція\n",
    "об'єктів довільних типів.\n",
    "Елементи кортежу перераховуються через кому і записуються у круглих\n",
    "дужках\n",
    "(0, 1, 2, 3, 4, 5)\n",
    "('first', 'second', 100, 1.234)\n",
    "Фактично кортеж це незмінюваний список.\n",
    "Виникає запитання, навіщо потрібні кортежі, якщо є списки? Відповідь на це\n",
    "запитання така:\n",
    "1. Кортежі надають захист колекції від несанкціонованої зміни.\n",
    "2. Кортежі мають менший розмір у порівнянні зі списками.\n",
    "3. Кортежі, на відміну від списків можна використовувати у якості ключа\n",
    "словника (певний тип даних Python, що буде розглянуто пізніше).\n",
    "\n",
    "Робота з кортежами подібна до роботи зі списками. Власне для кортежів\n",
    "можна використовувати всі операції що і для списків, які не змінюють сам\n",
    "кортеж"
   ]
  },
  {
   "cell_type": "code",
   "execution_count": null,
   "metadata": {
    "collapsed": true
   },
   "outputs": [],
   "source": [
    "l = (1, 2, 3, 4, 5)\n",
    "print(l[4])"
   ]
  },
  {
   "cell_type": "markdown",
   "metadata": {},
   "source": [
    "Якщо ж потрібно змінити кортеж, то створюють новий кортеж на базі\n",
    "вихідного і здійснюють переприсвоєння подібно до простих типів. Спробуємо\n",
    "змінити останній елемент кортежу l."
   ]
  },
  {
   "cell_type": "code",
   "execution_count": null,
   "metadata": {
    "collapsed": true
   },
   "outputs": [],
   "source": [
    "l = l + (555, 666) # Додаємо два елементи до кортежу\n",
    "print(l)"
   ]
  },
  {
   "cell_type": "markdown",
   "metadata": {},
   "source": [
    "## Створення кортежів\n",
    "Існує кілька способів створення кортежів.\n",
    "1. Створення за допомогою літерала. Власне потрібно перерахувати\n",
    "елементи кортежу у круглих дужках через кому\n"
   ]
  },
  {
   "cell_type": "code",
   "execution_count": null,
   "metadata": {
    "collapsed": true
   },
   "outputs": [],
   "source": [
    "empty_tuple = () # Порожній кортеж\n",
    "one_element = (333,) # Кортеж з одного елементу.\n",
    "l = ('1', '2', 3.0, 4) # Кортеж з 4-х елементів\n",
    "M = ((1, 2, 3), (4, 5, 6)) # Кортеж, що складається\n",
    " # з двох кортежів\n",
    "# – незмінювана матриця\n"
   ]
  },
  {
   "cell_type": "markdown",
   "metadata": {},
   "source": [
    "Зверніть увагу на створення кортежу з одного елементу.\n",
    "one_element = (333,) # Кортеж з одного елементу.\n",
    "Кома в дужках після числа 333 знаходиться не випадково. Справа у тому, що\n",
    "без неї Python буде розглядати дужки виключно як інструмент зміни пріоритету\n",
    "арифметичної операції, а не створення кортежу. І таким чином, без коми після\n",
    "першого елементу змінна one_element буде цілим числом, а не кортежом.\n",
    "\n",
    "2. За допомогою перетворення у кортеж іншої колекції використовуючи\n",
    "інструкцію tuple.\n",
    "\n",
    "tpl = tuple(collection)\n",
    "\n",
    "Тут tpl – новий кортеж, що створюється на базі колекції collection"
   ]
  },
  {
   "cell_type": "code",
   "execution_count": null,
   "metadata": {
    "collapsed": true
   },
   "outputs": [],
   "source": [
    "t = tuple(range(5)) # Кортеж (0, 1, 2, 3, 4)\n",
    "s = tuple([1, 2, 3, 4, 5]) # Кортеж (1, 2, 3, 4, 5)\n"
   ]
  },
  {
   "cell_type": "markdown",
   "metadata": {},
   "source": [
    "### Пакування колекцій\n",
    "Пакування кортежу – це присвоєння виду\n",
    "t = (x1, …, xN)\n",
    "де t – ім’я запакованого кортежу, x1, …, xN – послідовність змінних (виразів,\n",
    "об’єктів тощо). Отже, пакування кортежу, це створення кортежу з декількох\n",
    "змінних або виразів.\n",
    "Розпакування кортежу – це присвоєння виду x1, …, xN = t\n",
    "де x1, …, xN – послідовність змінних. t – деякий кортеж. Для розпакування\n",
    "кортежу, важливо, щоб кількість змінних, що стоїть зліва від знаку рівності\n",
    "дорівнювала кількості елементів у кортежі."
   ]
  },
  {
   "cell_type": "code",
   "execution_count": null,
   "metadata": {
    "collapsed": true
   },
   "outputs": [],
   "source": [
    "a = 1\n",
    "b = 2\n",
    "c = 3\n",
    "tpl = (a, b, c) # Пакування кортежу\n",
    "print(tpl)\n",
    "\n",
    "x, y, z = tpl # Розпакування кортежу у змінні x,y,z\n",
    "print(x, y, z) "
   ]
  },
  {
   "cell_type": "markdown",
   "metadata": {},
   "source": [
    "Для списків операції пакування та розпакування також допустимі. Їхній\n",
    "синтаксис відрізняється лише тим, що потрібно використовувати замість\n",
    "круглих дужок – квадратні.\n",
    "\n",
    "Пакування та розпакування кортежу може здійснюватися одночасно в\n",
    "одному виразі. Таким чином допустимі такі присвоєння:\n",
    "\n",
    "x, y = u, v\n",
    "\n",
    "Така інструкція присвоєння рівносильна такому ланцюгу присвоєнь\n",
    "\n",
    "t = (u, v)\n",
    "\n",
    "x, y = t\n",
    "\n",
    "#### Приклад .\n",
    "Обміняти значення двох змінних.\n",
    "#### Розв’язок.\n",
    "Класичне програмування для розв’язання поставленої задачі\n",
    "вимагає використання допоміжної змінної. Проте операції\n",
    "пакування/розпакування дозволяють розв’язати цю задачу (не рахуючи\n",
    "введення даних та виведення результату) одним рядком вихідного коду\n"
   ]
  },
  {
   "cell_type": "code",
   "execution_count": null,
   "metadata": {
    "collapsed": true
   },
   "outputs": [],
   "source": [
    "a = int(input(\"a = \"))\n",
    "b = int(input(\"b = \"))\n",
    "a, b = b, a\n",
    "print(\"a =\", a, \"b = \", b)"
   ]
  },
  {
   "cell_type": "markdown",
   "metadata": {},
   "source": [
    "Операції пакування/розпакування допомагають зробити програми для\n",
    "обчислення елементів послідовностей заданих рекурентними співвідношен-\n",
    "нями старших порядків значно простішими.\n",
    "ями старших порядків значно простішими.\n",
    "#### Приклад \n",
    "Обчислити задане число Фібоначчі.\n",
    "#### Розв’язок.\n",
    "Для спрощення коду, скористаємося операцією\n",
    "пакування/розпакування.\n"
   ]
  },
  {
   "cell_type": "code",
   "execution_count": null,
   "metadata": {
    "collapsed": true
   },
   "outputs": [],
   "source": [
    "N = int(input('введіть N: '))\n",
    "F2 = 1 #F2 - нульове число Фібоначчі\n",
    "F1 = 1 #F1 - перше число Фібоначчі\n",
    "for n in range(2, N+1):\n",
    " F2, F1 = F1, F1 + F2 # третя змінна стає непотрібною\n",
    "print ('Результат', F1)"
   ]
  },
  {
   "cell_type": "markdown",
   "metadata": {},
   "source": [
    "#### Приклад\n",
    "Написати програму для обчислення найбільшого спільного\n",
    "дільника двох натуральних чисел.\n",
    "#### Розв’язок. \n",
    "Ця задача була розв’язана у прикладі 3.4. Для спрощення та\n",
    "скорочення коду, скористаємося операціями пакування/розпакування."
   ]
  },
  {
   "cell_type": "code",
   "execution_count": null,
   "metadata": {
    "collapsed": true
   },
   "outputs": [],
   "source": [
    "N = int(input(\"Введіть перше число \"))\n",
    "M = int(input(\"Введіть друге число \"))\n",
    "# Запам'ятовуємо вхідні змінні\n",
    "U = N\n",
    "V = M\n",
    "# Модифікуємо змінні U та V так, щоб U >= V\n",
    "if U < V:\n",
    " U, V = V, U\n",
    "# Алгоритм Евкліда з використанням пакування/розпакування\n",
    "while V > 0:\n",
    " V, U = U % V, V\n",
    "# Виводимо результат на екран\n",
    "print(\"НСД(%d, %d) = %d\" % (N, M, U))"
   ]
  },
  {
   "cell_type": "markdown",
   "metadata": {},
   "source": [
    "### Генератор-вирази для послідовностей\n",
    "Генератор-вирази у Python дозволяють побудувати та опрацювати деяку\n",
    "послідовність на базі вже створеної колекції або згідно з деяким законом.\n",
    "Синтаксис генератор-виразу такий\n",
    "\n",
    "generator = (expr(i) for i in collection if condition)\n",
    "\n",
    "де generator – новий генератор-вираз, collection – деяка колекція, змінна\n",
    "i послідовно пробігає всі елементи колекції, condition – деяка умова,\n",
    "expr(i) – вираз, що залежить від i. Як і для оператора створення списку,\n",
    "блок з умовою не є обов’язковим.\n",
    "Наступний блок коду, у якому визначено генератор-вираз generator\n",
    "виведе всі непарні числа з діапазону від 1 до 10."
   ]
  },
  {
   "cell_type": "code",
   "execution_count": null,
   "metadata": {
    "collapsed": true
   },
   "outputs": [],
   "source": [
    "generator = (k for k in range(1, 10, 2))\n",
    "for a in generator:\n",
    " print(a)\n"
   ]
  },
  {
   "cell_type": "markdown",
   "metadata": {},
   "source": [
    "Як можна помітити, генератор-вираз подібні до оператора створення списку\n",
    "– і той і інший будують послідовність на базі деякої колекції. Проте, на відміну\n",
    "від оператора створення списку, генератор-вирази не будують всю\n",
    "послідовність одразу – вони повертають послідовність по-елементно при\n",
    "кожному зверненні до об’єкту генератора. Це робить генератор-вирази\n",
    "незамінними у випадку коли треба обробляти великі обсяги даних якщо\n",
    "одночасно з цього масиву даних необхідно лише один або декілька елементів"
   ]
  }
 ],
 "metadata": {
  "kernelspec": {
   "display_name": "Python 3",
   "language": "python",
   "name": "python3"
  },
  "language_info": {
   "codemirror_mode": {
    "name": "ipython",
    "version": 3
   },
   "file_extension": ".py",
   "mimetype": "text/x-python",
   "name": "python",
   "nbconvert_exporter": "python",
   "pygments_lexer": "ipython3",
   "version": "3.6.2"
  }
 },
 "nbformat": 4,
 "nbformat_minor": 2
}
