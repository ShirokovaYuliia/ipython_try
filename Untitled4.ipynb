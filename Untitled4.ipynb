{
 "cells": [
  {
   "cell_type": "markdown",
   "metadata": {},
   "source": [
    "# Урок 2. Основи мови програмування Python\n",
    "## Частина 2. Числа\n",
    "Числа в Python бувають різні:\n",
    " - цілі числа(int): 122, -4,99999999, 0o177,0x9ff,ob101010\n",
    " - дійсні числа (float): 1.0, 3.14, 5.4Е21, 4.0е21\n",
    " - комплексні числа (complex): 3 + 4j, 3.0+ 4.0j\n",
    " - числа з фіксованою точністю % decimal.Decimal('0.1')\n",
    " - раціональні числа:  fractions.Fraction(3, 4)\n",
    " \n",
    " Операції з цілими і дісними числами\n",
    "\n",
    "   x + y -  сума \n",
    "   \n",
    "   x - y  - різниця \n",
    "   \n",
    "   x * y  - добуток\n",
    "   \n",
    "   x / y -  частка\n",
    "   \n",
    "   x // y - ділення з округленням вниз ( до найближчого меншого числа)\n",
    "   \n",
    "   x % y - остача від ділення\n",
    "   \n",
    "   divmod(X,Y)   - пара (x // y,x % y)\n",
    "   \n",
    "   -x      - унарний мінус – повертає x протилежного знаку\n",
    "   \n",
    "   x **y  - x піднесене до степеня y\n",
    "   \n",
    "   pow(x,y[,z])  - х в степені у,[х в степені у по  модулю z: розрахуннок остачі від ділення числа х в степені у на\n",
    "   число z(модуль) ]\n",
    "                              \n",
    "   X.as_integer_ratio()   - повертає пару цілих чисел, відношення якого дорівнює дійсному  Х\n",
    "   \n",
    "   X.is_integer()  - перевірка - чи являється значення дійсного Х цілим числом\n",
    "   \n",
    "   int([рядок-число],[основа системи числення]) - перетворення до цілого числа у десятковій системі від 2 до 36 ( за замовчцванням в десяткову) \n",
    "    \n",
    "   \n",
    "   bin(x)  - перетворення цілого числа в двійковий рядок\n",
    "   \n",
    "   hex(x)-  перетворення цілого числа в шістнадцятковий рядок\n",
    "   \n",
    "   oct(x) - перетворення цілого числа у вісімковий рядок"
   ]
  },
  {
   "cell_type": "code",
   "execution_count": 2,
   "metadata": {
    "collapsed": true
   },
   "outputs": [],
   "source": [
    "# Python 2 and 3 compatibility\n",
    "# pip install future\n",
    "from __future__ import (absolute_import, division,\n",
    "                        print_function, unicode_literals)\n",
    "from builtins import *"
   ]
  },
  {
   "cell_type": "markdown",
   "metadata": {},
   "source": [
    "#### Цілі числа"
   ]
  },
  {
   "cell_type": "code",
   "execution_count": 3,
   "metadata": {},
   "outputs": [
    {
     "name": "stdout",
     "output_type": "stream",
     "text": [
      "5\n"
     ]
    }
   ],
   "source": [
    "print(3+2)"
   ]
  },
  {
   "cell_type": "code",
   "execution_count": 4,
   "metadata": {},
   "outputs": [
    {
     "name": "stdout",
     "output_type": "stream",
     "text": [
      "1\n"
     ]
    }
   ],
   "source": [
    "print(3-2)"
   ]
  },
  {
   "cell_type": "code",
   "execution_count": 5,
   "metadata": {},
   "outputs": [
    {
     "name": "stdout",
     "output_type": "stream",
     "text": [
      "6\n"
     ]
    }
   ],
   "source": [
    "print(3*2)"
   ]
  },
  {
   "cell_type": "code",
   "execution_count": 6,
   "metadata": {},
   "outputs": [
    {
     "name": "stdout",
     "output_type": "stream",
     "text": [
      "1.5\n"
     ]
    }
   ],
   "source": [
    "print(3/2)"
   ]
  },
  {
   "cell_type": "code",
   "execution_count": 7,
   "metadata": {},
   "outputs": [
    {
     "name": "stdout",
     "output_type": "stream",
     "text": [
      "9\n"
     ]
    }
   ],
   "source": [
    "print(3**2)"
   ]
  },
  {
   "cell_type": "markdown",
   "metadata": {},
   "source": [
    "Можна також використовувати дужки для управління порядком виконання операцій"
   ]
  },
  {
   "cell_type": "code",
   "execution_count": 8,
   "metadata": {},
   "outputs": [
    {
     "name": "stdout",
     "output_type": "stream",
     "text": [
      "14\n",
      "20\n"
     ]
    }
   ],
   "source": [
    "standard_order = 2 + 3*4\n",
    "print(standard_order)\n",
    "my_order = (2 + 3)*4\n",
    "print(my_order)"
   ]
  },
  {
   "cell_type": "markdown",
   "metadata": {},
   "source": [
    "Раціональні числа"
   ]
  },
  {
   "cell_type": "code",
   "execution_count": 9,
   "metadata": {},
   "outputs": [
    {
     "name": "stdout",
     "output_type": "stream",
     "text": [
      "0.2\n"
     ]
    }
   ],
   "source": [
    "print(.1 + .1)"
   ]
  },
  {
   "cell_type": "markdown",
   "metadata": {},
   "source": [
    "#### Цілі числа в Python 2 i Python 3\n",
    "У Python 2 результатом ділення двох чисел - також ціле число, а в Python 3 - float.\n"
   ]
  },
  {
   "cell_type": "code",
   "execution_count": 10,
   "metadata": {},
   "outputs": [
    {
     "name": "stdout",
     "output_type": "stream",
     "text": [
      "1.5\n"
     ]
    }
   ],
   "source": [
    "print(3/2)"
   ]
  },
  {
   "cell_type": "markdown",
   "metadata": {},
   "source": [
    "В Python 3 результат - 1.5, в Python 2 (без подключенyя future) - 1"
   ]
  },
  {
   "cell_type": "markdown",
   "metadata": {},
   "source": [
    "Комплексні числа"
   ]
  },
  {
   "cell_type": "code",
   "execution_count": 19,
   "metadata": {},
   "outputs": [
    {
     "name": "stdout",
     "output_type": "stream",
     "text": [
      "(2+3j) = 3.605551275463989\n"
     ]
    }
   ],
   "source": [
    "\n",
    "print(complex(2, 3),'=', abs(complex(2, 3)))"
   ]
  },
  {
   "cell_type": "code",
   "execution_count": null,
   "metadata": {
    "collapsed": true
   },
   "outputs": [],
   "source": []
  }
 ],
 "metadata": {
  "kernelspec": {
   "display_name": "Python 3",
   "language": "python",
   "name": "python3"
  },
  "language_info": {
   "codemirror_mode": {
    "name": "ipython",
    "version": 3
   },
   "file_extension": ".py",
   "mimetype": "text/x-python",
   "name": "python",
   "nbconvert_exporter": "python",
   "pygments_lexer": "ipython3",
   "version": "3.6.2"
  }
 },
 "nbformat": 4,
 "nbformat_minor": 2
}
