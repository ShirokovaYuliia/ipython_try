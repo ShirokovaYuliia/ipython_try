{
 "cells": [
  {
   "cell_type": "markdown",
   "metadata": {},
   "source": [
    "\n",
    "# Урок 2. Основи мови програмування  Python\n",
    "## Частина 5. Цикли while та  for \n",
    "### Цикл While \n",
    "Цикли, поруч з лінійними програмами та розгалуженнями, є третьою з\n",
    "базових конструкцій структурного програмування.\n",
    "\n",
    "Цикл – структура керування мови програмування, що здійснює повторення\n",
    "певної послідовності команд.\n",
    "\n",
    "У Python цикли поділяються на два типи:\n",
    "- Цикли з умовою продовження (while).\n",
    "- Цикли-ітератори по колекції (for).\n",
    "\n",
    "### Цикл з умовою продовження\n",
    "Цикл з умовою продовження, це структура керування, що здійснює\n",
    "повторення деякої послідовності інструкцій, поки виконується задана умова.\n",
    "Надалі цикл з умовою продовження будемо називати просто циклом з\n",
    "умовою. Синтаксис циклу з умовою такий\n"
   ]
  },
  {
   "cell_type": "markdown",
   "metadata": {},
   "source": [
    "while condition:\n",
    " \n",
    " process_iteration"
   ]
  },
  {
   "cell_type": "markdown",
   "metadata": {},
   "source": [
    "де condition називається умовою продовження циклу, process_iteration\n",
    "– тілом (або ітерацією) циклу.\n",
    "Правило роботи виконання циклу з умовою:\n",
    "1. Python обчислює значення умови condition:\n",
    "2. якщо condition == True, то інтерпретатор виконує інструкцію\n",
    "process_iteration, після чого все починається спочатку з пункту 1.\n",
    "3. якщо condition == False, то інтерпретатор не виконує інструкцію\n",
    "process_iteration і завершує виконання циклу.\n",
    "Іншими словами while виконує тіло циклу, поки умова циклу є істиною.\n",
    "Очевидно, що якщо умова продовження циклу завжди буде залишатися\n",
    "істинною, то цикл один раз почавшись, ніколи не закінчить свою роботу. Така\n",
    "ситуація називається «зациклюванням» або «зависанням» програми. Така\n",
    "ситуація виникає, наприклад, якщо тіло циклу не змінює умову продовження\n",
    "циклу. Відповідно, програмуючи цикли, необхідно слідкувати за тим, щоб цикли\n",
    "були скінченними."
   ]
  },
  {
   "cell_type": "markdown",
   "metadata": {},
   "source": [
    "#### Приклад 3.1.\n",
    "Визначити чи є введене з клавіатури число 𝑁 простим.\n",
    "#### Розв’язок.\n",
    "Згідно з означенням, простими називаються натуральні числа\n",
    "більші за 1, які діляться лише на 1 і на себе. Отже, для того, щоб вияснити, чи\n",
    "є число простим, необхідно поділити його на всі числа від 2 до 𝑁 − 1. Якщо так\n",
    "станеться, що число 𝑁 поділиться без остачі хоча б на одне з них, то це і буде\n",
    "означати, що воно не просте.\n",
    "Розіб’ємо задачу на кілька кроків. Цикл, що буде перебирати всі числа від 2\n",
    "до 𝑁 − 1 буде виглядати таким чином"
   ]
  },
  {
   "cell_type": "code",
   "execution_count": 2,
   "metadata": {},
   "outputs": [
    {
     "ename": "NameError",
     "evalue": "name 'N' is not defined",
     "output_type": "error",
     "traceback": [
      "\u001b[1;31m---------------------------------------------------------------------------\u001b[0m",
      "\u001b[1;31mNameError\u001b[0m                                 Traceback (most recent call last)",
      "\u001b[1;32m<ipython-input-2-5bfb1c200383>\u001b[0m in \u001b[0;36m<module>\u001b[1;34m()\u001b[0m\n\u001b[0;32m      1\u001b[0m \u001b[0mi\u001b[0m \u001b[1;33m=\u001b[0m \u001b[1;36m2\u001b[0m \u001b[1;31m# змінна i – лічильник, починається з 2\u001b[0m\u001b[1;33m\u001b[0m\u001b[0m\n\u001b[1;32m----> 2\u001b[1;33m \u001b[1;32mwhile\u001b[0m \u001b[0mi\u001b[0m \u001b[1;33m<=\u001b[0m \u001b[0mN\u001b[0m\u001b[1;33m-\u001b[0m\u001b[1;36m1\u001b[0m\u001b[1;33m:\u001b[0m \u001b[1;31m# поки лічильник i не перевищить N-1\u001b[0m\u001b[1;33m\u001b[0m\u001b[0m\n\u001b[0m\u001b[0;32m      3\u001b[0m  \u001b[1;31m# тут буде запрограмовано алгоритм\u001b[0m\u001b[1;33m\u001b[0m\u001b[1;33m\u001b[0m\u001b[0m\n\u001b[0;32m      4\u001b[0m  \u001b[0mi\u001b[0m \u001b[1;33m=\u001b[0m \u001b[0mi\u001b[0m \u001b[1;33m+\u001b[0m \u001b[1;36m1\u001b[0m \u001b[1;31m# збільшуємо лічильник і на 1\u001b[0m\u001b[1;33m\u001b[0m\u001b[0m\n",
      "\u001b[1;31mNameError\u001b[0m: name 'N' is not defined"
     ]
    }
   ],
   "source": [
    "i = 2 # змінна i – лічильник, починається з 2\n",
    "while i <= N-1: # поки лічильник i не перевищить N-1\n",
    " # тут буде запрограмовано алгоритм\n",
    " i = i + 1 # збільшуємо лічильник і на 1"
   ]
  },
  {
   "cell_type": "markdown",
   "metadata": {},
   "source": [
    "Як бачимо, тут використовується змінна i, яка називається лічильником.\n",
    "Цикл буде виконуватися доки змінна-лічильник буде меншою за значення\n",
    "виразу N-1. Цикли подібні до вищенаведеного будуть досить часто\n",
    "зустрічатися у наших програмах.\n",
    "Задача, яку ми розв’язуємо зараз, це задача пошуку, оскільки нам\n",
    "фактично потрібно знайти таке число яке поділить без остачі число N. Існує\n",
    "безліч алгоритмів пошуку. Розглянемо найзагальніший з них. А саме.\n",
    "Використаємо у нашій програмі змінну-індикатор prime, яка просигналізує\n",
    "нам, що знайдено число, на яке ділиться вихідне число N, тобто що воно не є\n",
    "простим."
   ]
  },
  {
   "cell_type": "code",
   "execution_count": null,
   "metadata": {},
   "outputs": [],
   "source": [
    "N = int(input(\"N = \"))\n",
    "prime = True # Вважаємо спочатку, що число є простим\n",
    "i = 2 # Починаючи з 2\n",
    "while i <= N-1: # до N-1 включно\n",
    "    if N % i == 0: # якщо N ділиться без остачі на і\n",
    "        prime = False # То воно не є простим\n",
    "        i = i + 1 # Беремо наступне і\n",
    "if prime:\n",
    "    print(\"Число\", N, \"є простим\")\n",
    "    else:\n",
    "    print(\"Число\", N, \"не є простим\")\n"
   ]
  },
  {
   "cell_type": "markdown",
   "metadata": {},
   "source": [
    "Наведений код програми не буде оптимальним. Дійсно, якщо на певній i-й\n",
    "ітерації при буде виявлено, що число N не є простим, то продовжувати цикл\n",
    "перевірки вже не потрібно. Для оптимізації замінимо умову цикла на таку"
   ]
  },
  {
   "cell_type": "code",
   "execution_count": null,
   "metadata": {
    "collapsed": true
   },
   "outputs": [],
   "source": [
    "hile (i <= N-1) and prime: # до N-1 включно та\n",
    " # всі попередні числа прості"
   ]
  },
  {
   "cell_type": "markdown",
   "metadata": {},
   "source": [
    "#### Приклад  \n",
    "Знайти суму цифр заданого натурального числа.\n",
    "#### Розв’язок. \n",
    "Для розв'язання задачі треба розкласти число на цифри.\n",
    "Для цього, досить згадати, що ми використовуємо позиційну десяткову\n",
    "систему числення. Таким чином, беручи остачу від ділення числа на 10 будемо\n",
    "отримувати останню цифру числа, а діленням націло на 10 прибирати цю\n",
    "цифру з запису числа. Наприклад,\n",
    "256 % 10 = 6,\n",
    "256 // 10 = 25.\n",
    "Очевидно, що повторюючи ці дві операції поки число лишається більшим\n",
    "за нуль і підсумовуючи у деякій змінній отримані остачі отримаємо бажаний\n",
    "результат. Програма буде мати вигляд"
   ]
  },
  {
   "cell_type": "code",
   "execution_count": null,
   "metadata": {
    "collapsed": true
   },
   "outputs": [],
   "source": [
    "N = int(input(\"N = \"))\n",
    "suma = 0 # Змінна, у якій буде міститися сума\n",
    "while N > 0: # Поки число не нульове (має цифри)\n",
    " last = N % 10 # Визначаємо останню цифру числа\n",
    " suma += last # Додаємо її до змінної suma\n",
    " N //= 10 # Прибираємо останню цифру числа\n",
    "print(\"Сума цифр заданого числа є\", suma)"
   ]
  },
  {
   "cell_type": "markdown",
   "metadata": {},
   "source": [
    "#### Приклад . \n",
    "Дано натуральне число 𝐾. Скласти програму знаходження\n",
    "всіх натуральних чисел менших або рівних 𝐾, які при піднесенні до квадрата\n",
    "дають паліндром.\n",
    "#### Розв’язок. \n",
    "Натуральне число називається паліндромом, якщо його запис\n",
    "читається однаково зліва направо і справа наліво. Наприклад, числа\n",
    "12321, 626, 10001\n",
    "є паліндромами.\n",
    "Для чисел 𝑘 = 1, . . . ,𝐾 будемо порівнювати значення 𝑁 = 𝑘\n",
    "2\n",
    "із числом 𝑃, що\n",
    "є записом числа 𝑁 у зворотному порядку.\n",
    "Розіб’ємо задачу на два етапи. Для початку напишемо програму, яка будує\n",
    "число 𝑃, що є записом числа 𝑁 у зворотному порядку. Ця програма, майже\n",
    "повністю повторює програму з попереднього прикладу. Єдина відмінність\n",
    "полягає у тому, що будемо шукати не суму числа, а будувати число 𝑃 з огляду\n",
    "на позиційну десяткову систему числення:\n",
    "625 = (62) ∗ 10 + 5 = ((6) ∗ 10 + 2) ∗ 10 + 5\n",
    "\n",
    "Отже вихідний код, для обернення числа буде виглядати таким чином"
   ]
  },
  {
   "cell_type": "code",
   "execution_count": 14,
   "metadata": {
    "collapsed": true
   },
   "outputs": [],
   "source": [
    "# Вважаємо, що змінна N задана\n",
    "P = 0 # P буде містити обернений запис числа N\n",
    "while N > 0:\n",
    " last = N % 10\n",
    " P = P * 10 + last\n",
    " N //= 10\n"
   ]
  },
  {
   "cell_type": "markdown",
   "metadata": {},
   "source": [
    "Після виконання цього коду, у змінній P буде міститися число N записане у\n",
    "зворотному порядку.\n",
    "Нарешті напишемо програму, що розв’язує поставлену задачу"
   ]
  },
  {
   "cell_type": "code",
   "execution_count": 20,
   "metadata": {},
   "outputs": [
    {
     "name": "stdout",
     "output_type": "stream",
     "text": [
      "K = 12\n"
     ]
    },
    {
     "ename": "KeyboardInterrupt",
     "evalue": "",
     "output_type": "error",
     "traceback": [
      "\u001b[1;31m---------------------------------------------------------------------------\u001b[0m",
      "\u001b[1;31mKeyboardInterrupt\u001b[0m                         Traceback (most recent call last)",
      "\u001b[1;32m<ipython-input-20-69495024b925>\u001b[0m in \u001b[0;36m<module>\u001b[1;34m()\u001b[0m\n\u001b[0;32m      1\u001b[0m \u001b[0mK\u001b[0m \u001b[1;33m=\u001b[0m \u001b[0mint\u001b[0m\u001b[1;33m(\u001b[0m\u001b[0minput\u001b[0m\u001b[1;33m(\u001b[0m\u001b[1;34m\"K = \"\u001b[0m\u001b[1;33m)\u001b[0m\u001b[1;33m)\u001b[0m\u001b[1;33m\u001b[0m\u001b[0m\n\u001b[0;32m      2\u001b[0m \u001b[0mk\u001b[0m \u001b[1;33m=\u001b[0m \u001b[1;36m1\u001b[0m\u001b[1;33m\u001b[0m\u001b[0m\n\u001b[1;32m----> 3\u001b[1;33m \u001b[1;32mwhile\u001b[0m \u001b[0mk\u001b[0m \u001b[1;33m<=\u001b[0m \u001b[0mK\u001b[0m\u001b[1;33m:\u001b[0m\u001b[1;33m\u001b[0m\u001b[0m\n\u001b[0m\u001b[0;32m      4\u001b[0m      \u001b[0mN\u001b[0m \u001b[1;33m=\u001b[0m \u001b[0mk\u001b[0m \u001b[1;33m*\u001b[0m \u001b[0mk\u001b[0m\u001b[1;33m\u001b[0m\u001b[0m\n\u001b[0;32m      5\u001b[0m  \u001b[1;31m# Будуємо обернений запис числа N\u001b[0m\u001b[1;33m\u001b[0m\u001b[1;33m\u001b[0m\u001b[0m\n",
      "\u001b[1;31mKeyboardInterrupt\u001b[0m: "
     ]
    }
   ],
   "source": [
    "K = int(input(\"K = \"))\n",
    "k = 1\n",
    "while k <= K:\n",
    "     N = k * k\n",
    " # Будуємо обернений запис числа N\n",
    "     p = 0 # P буде містити обернений запис числа N\n",
    "     while N > 0:\n",
    "        last = N % 10\n",
    "        p = p * 10 + last\n",
    "        N //= 10\n",
    " # Якщо обернений запис числа N збігається з N=k**2\n",
    "if p == k * k:\n",
    "    print(k) # Виводимо k на екран\n",
    "    k += 1\n"
   ]
  },
  {
   "cell_type": "markdown",
   "metadata": {},
   "source": [
    "Після виконання цього коду, у змінній P буде міститися число N записане у\n",
    "зворотному порядку.\n",
    "Нарешті напишемо програму, що розв’язує поставлену задачу."
   ]
  },
  {
   "cell_type": "markdown",
   "metadata": {},
   "source": [
    "#### Приклад . \n",
    "Написати програму для обчислення найбільшого спільного\n",
    "дільника двох цілих чисел за допомогою алгоритма Евкліда.\n",
    "#### Розв’язок. \n",
    "Для розв’язання задачі скористаємося модифікованим\n",
    "алгоритмом Евкліда, у якому"
   ]
  },
  {
   "cell_type": "code",
   "execution_count": 8,
   "metadata": {},
   "outputs": [
    {
     "name": "stdout",
     "output_type": "stream",
     "text": [
      "Введіть перше число 12\n",
      "Введіть друге число 14\n",
      "НСД(12, 14) = 2\n"
     ]
    }
   ],
   "source": [
    "N = int(input(\"Введіть перше число \"))\n",
    "M = int(input(\"Введіть друге число \"))\n",
    "# Запам'ятовуємо вхідні змінні\n",
    "U = N\n",
    "V = M\n",
    "# Модифікуємо змінні U та V так, щоб в\n",
    "# U було більше число, а у V - менше\n",
    "if U < V:\n",
    "    P = U\n",
    "    U = V\n",
    "    V = P\n",
    "# Запускаємо алгорим Евкліда\n",
    "while V > 0:\n",
    "    P = V\n",
    "    V = U % V\n",
    "    U = P\n",
    "# Виводимо результат на екран\n",
    "print(\"НСД(%d, %d) = %d\" % (N, M, U))"
   ]
  },
  {
   "cell_type": "markdown",
   "metadata": {},
   "source": [
    "#### Цикл по колекції.\n",
    "##### Колекція – це структура, що містить скінченний набір елементів, до яких реалізовано доступ.\n",
    "Колекції розрізняють в залежності від типу елементів у структурі, способів\n",
    "зображення її елементів у пам’яті, а також доступу до елементів.\n",
    "Прикладом колекції може бути послідовність\n",
    "{1, 2, 3, 4, 5, 6, 7, 8, 9}\n",
    "##### Ітератор – це інтерфейс, що надає послідовний доступ до елементів колекції та навігацію по ним.\n",
    "Для перебору всіх елементів колекції у Python використовується цикл по\n",
    "колекції елементів.\n",
    "##### Цикл по колекції – це структура керування, що здійснює повторення деякої послідовності інструкцій, для всіх елементів колекції.\n",
    "Через призначення, яке виконують цикли по колекції їх часто називають\n",
    "«для всіх» (eng. “for each”).\n",
    "Синтаксис циклу по колекції такий\n"
   ]
  },
  {
   "cell_type": "code",
   "execution_count": null,
   "metadata": {
    "collapsed": true
   },
   "outputs": [],
   "source": [
    "for iterator in collection:\n",
    " process_iteration"
   ]
  },
  {
   "cell_type": "code",
   "execution_count": null,
   "metadata": {
    "collapsed": true
   },
   "outputs": [],
   "source": [
    "змінна iterator це ітератор, який послідовно проходить всі елементи\n",
    "колекції collection. process_iteration – тіло циклу, що виконується для\n",
    "кожного поточного значення змінної iterator з колекції.\n",
    "Розглянемо приклад використання циклу по колекції, котра є послідовністю\n",
    "натуральних чисел від 1 до 9. Цикл по колекції у цьому прикладі\n",
    "використовується для того, щоб підрахувати суму чисел колекції."
   ]
  },
  {
   "cell_type": "code",
   "execution_count": 7,
   "metadata": {},
   "outputs": [
    {
     "name": "stdout",
     "output_type": "stream",
     "text": [
      "45\n"
     ]
    }
   ],
   "source": [
    "suma = 0\n",
    "collection = {1, 2, 3, 4, 5, 6, 7, 8, 9} # колекція\n",
    "for i in collection : # i – ітератор\n",
    " suma += i\n",
    "print(suma)\n"
   ]
  },
  {
   "cell_type": "markdown",
   "metadata": {},
   "source": [
    "Однією з найпростіших, проте дуже важливих колекцій у Python є\n",
    "арифметична прогресія натуральних чисел\n",
    "𝑎0 = 𝑏, 𝑎1 = 𝑎0 + 𝑑, … , 𝑎𝑛 = 𝑎𝑛−1 + 𝑑\n",
    "Наприклад, якщо 𝑏 = 1, 𝑑 = 2, то колекція, найбільший член якої менший за\n",
    "число 𝑐 = 10, буде\n",
    "{1,3,5,7,9}\n",
    "У Python для побудови такої колекції існує спеціальна функція\n",
    "\n",
    "range(b,c,d)\n",
    "\n",
    "вона повертає впорядковану колекцію, що містить арифметичну прогресію,\n",
    "перший член якої b, останній член менший за c, а різниця прогресії дорівнює d.\n",
    "Наприклад, для створення колекції, що містить непарні числа, від 3 до 11\n",
    "треба викликати функцію  range(3,12,2)\n",
    "\n",
    "Якщо різниця прогресії 𝑑 = 1, то d можна опускати:  range(b,c)\n",
    "\n",
    "Крім того, якщо перший член прогресії 𝑏 = 0, то b можна також опускати: range(c)\n",
    "\n",
    "Отже, попередній приклад, підрахунку суми натуральних чисел від 1 до 9\n",
    "можемо переписати у такий спосіб:"
   ]
  },
  {
   "cell_type": "code",
   "execution_count": null,
   "metadata": {
    "collapsed": true
   },
   "outputs": [],
   "source": [
    "suma = 0\n",
    "for i in range(1, 10):\n",
    " suma += i\n",
    "print(suma)"
   ]
  },
  {
   "cell_type": "markdown",
   "metadata": {},
   "source": [
    "#### Приклад 3.5. \n",
    "Знайти суму парних чисел з діапазону від 1 до N.\n",
    "#### Розв’язок.\n",
    "Для розв'язання задачі треба згенерувати колекцію парних\n",
    "чисел, після чого просумувати її члени\n",
    "Інструкція range(2, N + 1, 2) створює колекцію парних чисел з\n",
    "діапазону [2, N]. Таким чином, для розв'язання задачі досить підсумувати\n",
    "члени створеної колекції."
   ]
  },
  {
   "cell_type": "code",
   "execution_count": null,
   "metadata": {
    "collapsed": true
   },
   "outputs": [],
   "source": [
    "N = int(input(\"N = \"))\n",
    "suma = 0\n",
    "for i in range(2, N + 1, 2):\n",
    " suma += i\n",
    "print(\"Сума парних чисел від 1 до %d є %d\" % (N, suma))"
   ]
  },
  {
   "cell_type": "markdown",
   "metadata": {},
   "source": [
    "Цикл for у комплексі з інструкцією range часто використовується для того,\n",
    "щоб виконати певну інструкцію наперед задану кількість разів. Наприклад,\n",
    "інструкція\n"
   ]
  },
  {
   "cell_type": "code",
   "execution_count": null,
   "metadata": {
    "collapsed": true
   },
   "outputs": [],
   "source": [
    "for i in range(10):\n",
    " process_iteration"
   ]
  },
  {
   "cell_type": "markdown",
   "metadata": {},
   "source": [
    "виконає тіло циклу process_iteration рівно 10 разів, оскільки ітератор\n",
    "циклу (який у цьому випадку буде лічильником) i пробігає значення з\n",
    "діапазону від 0 до 9."
   ]
  },
  {
   "cell_type": "markdown",
   "metadata": {},
   "source": [
    "#### Приклад. \n",
    "Скласти програму для обчислення добутку двох натуральних\n",
    "чисел m і n, використовуючи тільки операцію додавання.\n",
    "#### Розв’язок. \n",
    "Легко помітити, що\n"
   ]
  },
  {
   "cell_type": "code",
   "execution_count": 22,
   "metadata": {},
   "outputs": [
    {
     "data": {
      "image/png": "[encoded data removed]",
      "text/plain": [
       "<IPython.core.display.Image object>"
      ]
     },
     "execution_count": 22,
     "metadata": {},
     "output_type": "execute_result"
    }
   ],
   "source": [
    "from IPython.display import Image\n",
    "Image(\"C:/Users/XTreme.ws/Desktop/Python/test15.png\")"
   ]
  },
  {
   "cell_type": "markdown",
   "metadata": {},
   "source": [
    "Таким чином, програма має вигляд"
   ]
  },
  {
   "cell_type": "code",
   "execution_count": null,
   "metadata": {},
   "outputs": [],
   "source": [
    "m = int(input(\"m = \"))\n",
    "n = int(input(\"n = \"))\n",
    "s = 0\n",
    "for i in range(m):\n",
    "    s += n\n",
    "print(s)\n"
   ]
  },
  {
   "cell_type": "markdown",
   "metadata": {},
   "source": [
    "Приклад 3.7. Дано натуральне число 𝑛. Написати програму для\n",
    "обчислення значень многочлена\n",
    "𝑦(𝑥) = 𝑥\n",
    "𝑛 + 𝑥\n",
    "𝑛−1+. . . +𝑥\n",
    "2 + 𝑥 + 1\n",
    "при заданому значенні 𝑥.\n",
    "Розв’язок. Розглянемо два способи розв`язання.\n",
    "Спосіб 1. Позначимо 𝑧𝑘 = 𝑥\n",
    "𝑘\n",
    ", 𝑘 ≥ 0. Тоді фрагмент вихідного коду"
   ]
  },
  {
   "cell_type": "code",
   "execution_count": null,
   "metadata": {
    "collapsed": true
   },
   "outputs": [],
   "source": [
    "z = 1\n",
    "for i in range(1, n + 1):\n",
    " z *= x"
   ]
  },
  {
   "cell_type": "markdown",
   "metadata": {},
   "source": [
    "забезпечить послідовне обчислення у змінній z значень 𝑧0, 𝑧1, … , 𝑧𝑛. Таким\n",
    "чином, отримаємо програму"
   ]
  },
  {
   "cell_type": "code",
   "execution_count": null,
   "metadata": {
    "collapsed": true
   },
   "outputs": [],
   "source": [
    "x = int(input(\"x = \"))\n",
    "n = int(input(\"n = \"))\n",
    "z = 1\n",
    "y = 1\n",
    "for i in range(1, n + 1):\n",
    " z *= x\n",
    " y += z\n",
    "print(\"y(%f) = %f\" %(x, y))"
   ]
  },
  {
   "cell_type": "markdown",
   "metadata": {},
   "source": [
    "Приклад 3.8. Нехай задано натуральне число 𝑛 ≥ 1 і послідовність чисел\n",
    "𝑎1, … , 𝑎𝑛. Знайти max(𝑎1, … , 𝑎𝑛\n",
    ").\n",
    "Розв’язок. Для розв'язання задачі досить помітити, що\n",
    "𝑚𝑎𝑥(𝑎1, 𝑎2, . . . , 𝑎𝑛) = 𝑚𝑎𝑥(. . . (𝑚𝑎𝑥(𝑚𝑎𝑥(𝑎1, 𝑎2), 𝑎3), . . . ), 𝑎𝑛).\n",
    "Нехай у змінній a міститься чергове число послідовності 𝑎𝑛, що вводиться з\n",
    "клавіатури. Оскільки кількість членів послідовності 𝑎𝑛 відома, то для їхнього\n",
    "зчитування використаємо цикл по проміжку значень. Для визначення\n",
    "максимального числа використаємо змінну max. Таким чином, програма буде\n",
    "мати вигляд:\n"
   ]
  },
  {
   "cell_type": "code",
   "execution_count": null,
   "metadata": {
    "collapsed": true
   },
   "outputs": [],
   "source": [
    "N = int(input(\"N = \"))\n",
    "# Зчитуємо 1-й член послідовності\n",
    "a = float(input(\"Задайте член послідовності = \"))\n",
    "max = a # Вважаємо, що він є найбільшим\n",
    "for i in range(1, N): # Цикл виконається рівно N-1 раз\n",
    " a = float(input(\"Уведіть член послідовності\"))\n",
    " # У змінну max записуємо більше з числем max і\n",
    " # поточного члена зчитаного з клавіатури\n",
    " max = a if a > max else max\n",
    "print(\"Найбільшим є число\", max)\n"
   ]
  }
 ],
 "metadata": {
  "kernelspec": {
   "display_name": "Python 3",
   "language": "python",
   "name": "python3"
  },
  "language_info": {
   "codemirror_mode": {
    "name": "ipython",
    "version": 3
   },
   "file_extension": ".py",
   "mimetype": "text/x-python",
   "name": "python",
   "nbconvert_exporter": "python",
   "pygments_lexer": "ipython3",
   "version": "3.6.2"
  }
 },
 "nbformat": 4,
 "nbformat_minor": 2
}
